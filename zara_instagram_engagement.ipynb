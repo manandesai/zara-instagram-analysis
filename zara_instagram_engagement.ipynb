{
 "cells": [
  {
   "cell_type": "markdown",
   "metadata": {
    "id": "YcsZ6cqLzh3X"
   },
   "source": [
    "# Zara Instagram Engagement"
   ]
  },
  {
   "cell_type": "markdown",
   "metadata": {
    "id": "I9n2Qkvub-mK"
   },
   "source": [
    "### Scraping Instagram and Getting Image Labels\n",
    "\n",
    "This section scrapes 500 posts from Zara's Instagram page and gets the image URL, the caption, the number of likes, and the number of comments.\n",
    "\n",
    "It then uses Google's Cloud Vision API to retrieve a set of labels for each image."
   ]
  },
  {
   "cell_type": "code",
   "execution_count": null,
   "metadata": {
    "id": "DazvXylOt_Lo"
   },
   "outputs": [],
   "source": [
    "!pip install instaloader\n",
    "import instaloader\n",
    "import pandas as pd"
   ]
  },
  {
   "cell_type": "code",
   "execution_count": null,
   "metadata": {
    "id": "xj_nHHFRoCIm"
   },
   "outputs": [],
   "source": [
    "insta = instaloader.Instaloader()\n",
    "handle = 'zara'\n",
    "profile = instaloader.Profile.from_username(insta.context, handle)\n",
    "posts = profile.get_posts()"
   ]
  },
  {
   "cell_type": "code",
   "execution_count": null,
   "metadata": {
    "id": "F9ELHJjNpPIj"
   },
   "outputs": [],
   "source": [
    "zara_df = pd.DataFrame(columns=['url', 'caption', 'likes', 'num_comments'])\n",
    "for post in posts:\n",
    "    if(len(zara_df) > 500):\n",
    "        break\n",
    "    if post.is_video:\n",
    "        continue\n",
    "    zara_df.loc[len(zara_df)] = [post.url, post.caption, post.likes, post.comments]"
   ]
  },
  {
   "cell_type": "code",
   "execution_count": null,
   "metadata": {
    "id": "0XqMZ6O-rKFo"
   },
   "outputs": [],
   "source": [
    "import os\n",
    "os.environ[\"GOOGLE_APPLICATION_CREDENTIALS\"] = '/content/text-analytics-hw3-e9a67fce5e52.json'\n",
    "!pip install --upgrade google-api-python-client"
   ]
  },
  {
   "cell_type": "code",
   "execution_count": null,
   "metadata": {
    "id": "HR88CTGYuq41"
   },
   "outputs": [],
   "source": [
    "from google.cloud import vision\n",
    "client = vision.ImageAnnotatorClient()\n",
    "image = vision.Image()\n",
    "\n",
    "def get_labels(url):\n",
    "    image.source.image_uri = url\n",
    "    response = client.label_detection(image=image)\n",
    "    labels = response.label_annotations\n",
    "    return [label.description for label in labels]\n",
    "\n",
    "zara_df['labels'] = zara_df['url'].map(get_labels)"
   ]
  },
  {
   "cell_type": "code",
   "execution_count": null,
   "metadata": {
    "colab": {
     "base_uri": "https://localhost:8080/",
     "height": 391
    },
    "id": "Jxwm827dcRbI",
    "outputId": "4b41ba14-a3c4-4f76-bfe7-dcaf11789aa5"
   },
   "outputs": [
    {
     "data": {
      "text/html": [
       "<div>\n",
       "<style scoped>\n",
       "    .dataframe tbody tr th:only-of-type {\n",
       "        vertical-align: middle;\n",
       "    }\n",
       "\n",
       "    .dataframe tbody tr th {\n",
       "        vertical-align: top;\n",
       "    }\n",
       "\n",
       "    .dataframe thead th {\n",
       "        text-align: right;\n",
       "    }\n",
       "</style>\n",
       "<table border=\"1\" class=\"dataframe\">\n",
       "  <thead>\n",
       "    <tr style=\"text-align: right;\">\n",
       "      <th></th>\n",
       "      <th>url</th>\n",
       "      <th>caption</th>\n",
       "      <th>likes</th>\n",
       "      <th>num_comments</th>\n",
       "      <th>labels</th>\n",
       "    </tr>\n",
       "  </thead>\n",
       "  <tbody>\n",
       "    <tr>\n",
       "      <th>0</th>\n",
       "      <td>https://scontent-iad3-1.cdninstagram.com/v/t51...</td>\n",
       "      <td>FW20 Campaign. Kids Collection\\nCreative Direc...</td>\n",
       "      <td>73078</td>\n",
       "      <td>400</td>\n",
       "      <td>['Clothing', 'Fashion', 'Outerwear', 'Fur', 'S...</td>\n",
       "    </tr>\n",
       "    <tr>\n",
       "      <th>1</th>\n",
       "      <td>https://scontent-iad3-1.cdninstagram.com/v/t51...</td>\n",
       "      <td>FW20 Campaign. Kids Collection\\nCreative Direc...</td>\n",
       "      <td>38498</td>\n",
       "      <td>124</td>\n",
       "      <td>['Sky', 'Darkness', 'Room', 'Adventure game', ...</td>\n",
       "    </tr>\n",
       "    <tr>\n",
       "      <th>2</th>\n",
       "      <td>https://scontent-iad3-1.cdninstagram.com/v/t51...</td>\n",
       "      <td>FW20 Campaign. Kids Collection\\nCreative Direc...</td>\n",
       "      <td>56094</td>\n",
       "      <td>192</td>\n",
       "      <td>['Cool', 'Fashion', 'Jeans', 'Sitting', 'Denim...</td>\n",
       "    </tr>\n",
       "    <tr>\n",
       "      <th>3</th>\n",
       "      <td>https://scontent-iad3-1.cdninstagram.com/v/t51...</td>\n",
       "      <td>FW20 Campaign. Man Collection\\nCreative Direct...</td>\n",
       "      <td>34728</td>\n",
       "      <td>103</td>\n",
       "      <td>['Hair', 'Face', 'Hairstyle', 'Eyebrow', 'Fore...</td>\n",
       "    </tr>\n",
       "    <tr>\n",
       "      <th>4</th>\n",
       "      <td>https://scontent-iad3-1.cdninstagram.com/v/t51...</td>\n",
       "      <td>FW20 Campaign. Man Collection\\nCreative Direct...</td>\n",
       "      <td>34286</td>\n",
       "      <td>187</td>\n",
       "      <td>['Snapshot', 'Standing', 'Hand', 'Arm', 'Human...</td>\n",
       "    </tr>\n",
       "  </tbody>\n",
       "</table>\n",
       "</div>"
      ],
      "text/plain": [
       "                                                 url  ...                                             labels\n",
       "0  https://scontent-iad3-1.cdninstagram.com/v/t51...  ...  ['Clothing', 'Fashion', 'Outerwear', 'Fur', 'S...\n",
       "1  https://scontent-iad3-1.cdninstagram.com/v/t51...  ...  ['Sky', 'Darkness', 'Room', 'Adventure game', ...\n",
       "2  https://scontent-iad3-1.cdninstagram.com/v/t51...  ...  ['Cool', 'Fashion', 'Jeans', 'Sitting', 'Denim...\n",
       "3  https://scontent-iad3-1.cdninstagram.com/v/t51...  ...  ['Hair', 'Face', 'Hairstyle', 'Eyebrow', 'Fore...\n",
       "4  https://scontent-iad3-1.cdninstagram.com/v/t51...  ...  ['Snapshot', 'Standing', 'Hand', 'Arm', 'Human...\n",
       "\n",
       "[5 rows x 5 columns]"
      ]
     },
     "execution_count": 20,
     "metadata": {
      "tags": []
     },
     "output_type": "execute_result"
    }
   ],
   "source": [
    "zara_df.head()"
   ]
  },
  {
   "cell_type": "code",
   "execution_count": null,
   "metadata": {
    "id": "X07q611F2qae"
   },
   "outputs": [],
   "source": [
    "zara_df.to_csv('zara_instagram.csv',index=False,header=True)"
   ]
  },
  {
   "cell_type": "markdown",
   "metadata": {
    "id": "tkiZvGsQcXjw"
   },
   "source": [
    "### Section 1\n",
    "\n",
    "This section creates a metric for engagement by using a weighted sum of the number of likes and the number of comments.\n",
    "\n",
    "It then splits the posts into high engagement posts and low engagement posts using the following formula:\n",
    "\n",
    "engagement score = .4*# likes (normalized) + .6*# comments (normalized)\n",
    "\n",
    "High engagement posts are posts with above the median engagement score while low engagement posts are posts with below the median engagement score."
   ]
  },
  {
   "cell_type": "code",
   "execution_count": null,
   "metadata": {
    "id": "_eXitC3k2-9V"
   },
   "outputs": [],
   "source": [
    "import pandas as pd\n",
    "zara_df = pd.read_csv('zara_instagram.csv')"
   ]
  },
  {
   "cell_type": "code",
   "execution_count": null,
   "metadata": {
    "id": "3saZ8TgocfPB"
   },
   "outputs": [],
   "source": [
    "zara_df['likes_weighted'] = zara_df['likes']/zara_df['likes'].max()\n",
    "zara_df['num_comments_weighted'] = zara_df['num_comments']/zara_df['num_comments'].max()"
   ]
  },
  {
   "cell_type": "code",
   "execution_count": null,
   "metadata": {
    "id": "NSuk1if8eGRI"
   },
   "outputs": [],
   "source": [
    "zara_df['engagement_score'] = 0.4*zara_df['likes_weighted'] + 0.6*zara_df['num_comments_weighted']\n",
    "med_score = zara_df['engagement_score'].median()\n",
    "zara_df['engagement_level'] = zara_df['engagement_score'].map(lambda x: 1 if x > med_score else 0)"
   ]
  },
  {
   "cell_type": "code",
   "execution_count": null,
   "metadata": {
    "colab": {
     "base_uri": "https://localhost:8080/",
     "height": 547
    },
    "id": "nejBEofMfQOK",
    "outputId": "2699bb1b-25f4-4adc-e824-0f5bfbb39dc9"
   },
   "outputs": [
    {
     "data": {
      "text/html": [
       "<div>\n",
       "<style scoped>\n",
       "    .dataframe tbody tr th:only-of-type {\n",
       "        vertical-align: middle;\n",
       "    }\n",
       "\n",
       "    .dataframe tbody tr th {\n",
       "        vertical-align: top;\n",
       "    }\n",
       "\n",
       "    .dataframe thead th {\n",
       "        text-align: right;\n",
       "    }\n",
       "</style>\n",
       "<table border=\"1\" class=\"dataframe\">\n",
       "  <thead>\n",
       "    <tr style=\"text-align: right;\">\n",
       "      <th></th>\n",
       "      <th>url</th>\n",
       "      <th>caption</th>\n",
       "      <th>likes</th>\n",
       "      <th>num_comments</th>\n",
       "      <th>labels</th>\n",
       "      <th>likes_weighted</th>\n",
       "      <th>num_comments_weighted</th>\n",
       "      <th>engagement_score</th>\n",
       "      <th>engagement_level</th>\n",
       "    </tr>\n",
       "  </thead>\n",
       "  <tbody>\n",
       "    <tr>\n",
       "      <th>0</th>\n",
       "      <td>https://scontent-iad3-1.cdninstagram.com/v/t51...</td>\n",
       "      <td>FW20 Campaign. Kids Collection\\nCreative Direc...</td>\n",
       "      <td>73078</td>\n",
       "      <td>400</td>\n",
       "      <td>['Clothing', 'Fashion', 'Outerwear', 'Fur', 'S...</td>\n",
       "      <td>0.249331</td>\n",
       "      <td>0.123229</td>\n",
       "      <td>0.173670</td>\n",
       "      <td>1</td>\n",
       "    </tr>\n",
       "    <tr>\n",
       "      <th>1</th>\n",
       "      <td>https://scontent-iad3-1.cdninstagram.com/v/t51...</td>\n",
       "      <td>FW20 Campaign. Kids Collection\\nCreative Direc...</td>\n",
       "      <td>38498</td>\n",
       "      <td>124</td>\n",
       "      <td>['Sky', 'Darkness', 'Room', 'Adventure game', ...</td>\n",
       "      <td>0.131349</td>\n",
       "      <td>0.038201</td>\n",
       "      <td>0.075460</td>\n",
       "      <td>0</td>\n",
       "    </tr>\n",
       "    <tr>\n",
       "      <th>2</th>\n",
       "      <td>https://scontent-iad3-1.cdninstagram.com/v/t51...</td>\n",
       "      <td>FW20 Campaign. Kids Collection\\nCreative Direc...</td>\n",
       "      <td>56094</td>\n",
       "      <td>192</td>\n",
       "      <td>['Cool', 'Fashion', 'Jeans', 'Sitting', 'Denim...</td>\n",
       "      <td>0.191384</td>\n",
       "      <td>0.059150</td>\n",
       "      <td>0.112044</td>\n",
       "      <td>0</td>\n",
       "    </tr>\n",
       "    <tr>\n",
       "      <th>3</th>\n",
       "      <td>https://scontent-iad3-1.cdninstagram.com/v/t51...</td>\n",
       "      <td>FW20 Campaign. Man Collection\\nCreative Direct...</td>\n",
       "      <td>34728</td>\n",
       "      <td>103</td>\n",
       "      <td>['Hair', 'Face', 'Hairstyle', 'Eyebrow', 'Fore...</td>\n",
       "      <td>0.118487</td>\n",
       "      <td>0.031731</td>\n",
       "      <td>0.066434</td>\n",
       "      <td>0</td>\n",
       "    </tr>\n",
       "    <tr>\n",
       "      <th>4</th>\n",
       "      <td>https://scontent-iad3-1.cdninstagram.com/v/t51...</td>\n",
       "      <td>FW20 Campaign. Man Collection\\nCreative Direct...</td>\n",
       "      <td>34286</td>\n",
       "      <td>187</td>\n",
       "      <td>['Snapshot', 'Standing', 'Hand', 'Arm', 'Human...</td>\n",
       "      <td>0.116979</td>\n",
       "      <td>0.057609</td>\n",
       "      <td>0.081357</td>\n",
       "      <td>0</td>\n",
       "    </tr>\n",
       "  </tbody>\n",
       "</table>\n",
       "</div>"
      ],
      "text/plain": [
       "                                                 url  ... engagement_level\n",
       "0  https://scontent-iad3-1.cdninstagram.com/v/t51...  ...                1\n",
       "1  https://scontent-iad3-1.cdninstagram.com/v/t51...  ...                0\n",
       "2  https://scontent-iad3-1.cdninstagram.com/v/t51...  ...                0\n",
       "3  https://scontent-iad3-1.cdninstagram.com/v/t51...  ...                0\n",
       "4  https://scontent-iad3-1.cdninstagram.com/v/t51...  ...                0\n",
       "\n",
       "[5 rows x 9 columns]"
      ]
     },
     "execution_count": 26,
     "metadata": {
      "tags": []
     },
     "output_type": "execute_result"
    }
   ],
   "source": [
    "zara_df.head()"
   ]
  },
  {
   "cell_type": "markdown",
   "metadata": {
    "id": "_V_RKU-thCKv"
   },
   "source": [
    "### Section 2\n",
    "\n",
    "In this section we run a logistic regression model to predict engagement level. We use the TF-IDF scores of the image labels as the independent variables first, and then we try using the TF-IDF of the post captions. Finally, we try combining the labels and the captions."
   ]
  },
  {
   "cell_type": "code",
   "execution_count": null,
   "metadata": {
    "id": "DRB8cdYKh2bu"
   },
   "outputs": [],
   "source": [
    "def label_clean(labels):\n",
    "    labels = labels.replace('[','')\n",
    "    labels = labels.replace(']','')\n",
    "    labels_clean = []\n",
    "    for label in labels.split(','):\n",
    "        label = label.strip()\n",
    "        label = label[1:-1]\n",
    "        labels_clean.append(label)\n",
    "    return(' '.join(labels_clean))\n",
    "\n",
    "zara_df['labels_clean'] = zara_df['labels'].map(label_clean)"
   ]
  },
  {
   "cell_type": "code",
   "execution_count": null,
   "metadata": {
    "colab": {
     "base_uri": "https://localhost:8080/",
     "height": 119
    },
    "id": "LB51IdR-kfgE",
    "outputId": "ee2af86c-e7a5-4e7e-8e12-17c53bebaa04"
   },
   "outputs": [
    {
     "data": {
      "text/plain": [
       "0    Clothing Fashion Outerwear Fur Street fashion ...\n",
       "1    Sky Darkness Room Adventure game Music venue N...\n",
       "2          Cool Fashion Jeans Sitting Denim Shoe Style\n",
       "3    Hair Face Hairstyle Eyebrow Forehead Chin Head...\n",
       "4    Snapshot Standing Hand Arm Human Photography S...\n",
       "Name: labels_clean, dtype: object"
      ]
     },
     "execution_count": 28,
     "metadata": {
      "tags": []
     },
     "output_type": "execute_result"
    }
   ],
   "source": [
    "zara_df['labels_clean'].head()"
   ]
  },
  {
   "cell_type": "code",
   "execution_count": null,
   "metadata": {
    "id": "l0LuAcgXTo-u"
   },
   "outputs": [],
   "source": [
    "from sklearn.feature_extraction.text import TfidfVectorizer\n",
    "vectorizer = TfidfVectorizer()\n",
    "X = vectorizer.fit_transform(zara_df['labels_clean'])\n",
    "y = zara_df['engagement_level']"
   ]
  },
  {
   "cell_type": "code",
   "execution_count": null,
   "metadata": {
    "colab": {
     "base_uri": "https://localhost:8080/",
     "height": 590
    },
    "id": "Xdh19Fl2USxj",
    "outputId": "6284d498-7a86-4be2-93fb-fed3c46e113a"
   },
   "outputs": [
    {
     "name": "stdout",
     "output_type": "stream",
     "text": [
      "Models built on image labels:\n"
     ]
    },
    {
     "data": {
      "image/png": "[encoded data removed]",
      "text/plain": [
       "<Figure size 432x288 with 2 Axes>"
      ]
     },
     "metadata": {
      "needs_background": "light",
      "tags": []
     },
     "output_type": "display_data"
    },
    {
     "data": {
      "image/png": "[encoded data removed]",
      "text/plain": [
       "<Figure size 432x288 with 2 Axes>"
      ]
     },
     "metadata": {
      "needs_background": "light",
      "tags": []
     },
     "output_type": "display_data"
    }
   ],
   "source": [
    "from sklearn.linear_model import LogisticRegression\n",
    "from sklearn.model_selection import train_test_split\n",
    "from sklearn.metrics import confusion_matrix\n",
    "import seaborn as sns\n",
    "import matplotlib.pyplot as plt\n",
    "print('Models built on image labels:')\n",
    "X_train, X_test, y_train, y_test = train_test_split(X, y, test_size=0.20, random_state=42)\n",
    "reg = LogisticRegression()\n",
    "reg.fit(X,y)\n",
    "cm = confusion_matrix(y_test, reg.predict(X_test))\n",
    "plt.figure()\n",
    "sns.heatmap(cm, annot=True)\n",
    "plt.ylabel('Actual')\n",
    "plt.xlabel('Predicted')\n",
    "plt.title('accuracy (on all data) of model fit on all data:' + str(reg.score(X,y)))\n",
    "plt.show()\n",
    "reg = LogisticRegression()\n",
    "reg.fit(X_train,y_train)\n",
    "cm = confusion_matrix(y_test, reg.predict(X_test))\n",
    "plt.figure()\n",
    "sns.heatmap(cm, annot=True)\n",
    "plt.ylabel('Actual')\n",
    "plt.xlabel('Predicted')\n",
    "plt.title('accuracy (on test data) of model fit on train data:' + str(reg.score(X_test,y_test)))\n",
    "plt.show()"
   ]
  },
  {
   "cell_type": "code",
   "execution_count": null,
   "metadata": {
    "id": "4FgXresdrHRC"
   },
   "outputs": [],
   "source": [
    "def caption_clean(caption):\n",
    "    #remove newline\n",
    "    caption = caption.replace('\\n',' ')\n",
    "    return caption\n",
    "\n",
    "zara_df['caption_clean'] = zara_df['caption'].map(caption_clean)"
   ]
  },
  {
   "cell_type": "code",
   "execution_count": null,
   "metadata": {
    "id": "UJhCf1_Rq-D1"
   },
   "outputs": [],
   "source": [
    "vectorizer = TfidfVectorizer()\n",
    "X = vectorizer.fit_transform(zara_df['caption_clean'])\n",
    "y = zara_df['engagement_level']"
   ]
  },
  {
   "cell_type": "code",
   "execution_count": null,
   "metadata": {
    "colab": {
     "base_uri": "https://localhost:8080/",
     "height": 590
    },
    "id": "lHs8HM_SsG6g",
    "outputId": "3bb9e9a0-bb1b-49c3-f46e-3de0209f440f"
   },
   "outputs": [
    {
     "name": "stdout",
     "output_type": "stream",
     "text": [
      "Models built on captions:\n"
     ]
    },
    {
     "data": {
      "image/png": "[encoded data removed]",
      "text/plain": [
       "<Figure size 432x288 with 2 Axes>"
      ]
     },
     "metadata": {
      "needs_background": "light",
      "tags": []
     },
     "output_type": "display_data"
    },
    {
     "data": {
      "image/png": "[encoded data removed]",
      "text/plain": [
       "<Figure size 432x288 with 2 Axes>"
      ]
     },
     "metadata": {
      "needs_background": "light",
      "tags": []
     },
     "output_type": "display_data"
    }
   ],
   "source": [
    "print('Models built on captions:')\n",
    "X_train, X_test, y_train, y_test = train_test_split(X, y, test_size=0.20, random_state=42)\n",
    "reg = LogisticRegression()\n",
    "reg.fit(X,y)\n",
    "cm = confusion_matrix(y_test, reg.predict(X_test))\n",
    "plt.figure()\n",
    "sns.heatmap(cm, annot=True)\n",
    "plt.ylabel('Actual')\n",
    "plt.xlabel('Predicted')\n",
    "plt.title('accuracy (on all data) of model fit on all data:' + str(reg.score(X,y)))\n",
    "plt.show()\n",
    "reg = LogisticRegression()\n",
    "reg.fit(X_train,y_train)\n",
    "cm = confusion_matrix(y_test, reg.predict(X_test))\n",
    "plt.figure()\n",
    "sns.heatmap(cm, annot=True)\n",
    "plt.ylabel('Actual')\n",
    "plt.xlabel('Predicted')\n",
    "plt.title('accuracy (on test data) of model fit on train data:' + str(reg.score(X_test,y_test)))\n",
    "plt.show()"
   ]
  },
  {
   "cell_type": "code",
   "execution_count": null,
   "metadata": {
    "id": "apEIi9-TsUpQ"
   },
   "outputs": [],
   "source": [
    "zara_df['labels_caption'] = zara_df['labels_clean'] + ' ' + zara_df['caption_clean']"
   ]
  },
  {
   "cell_type": "code",
   "execution_count": null,
   "metadata": {
    "id": "zoiT-o0ds3xm"
   },
   "outputs": [],
   "source": [
    "vectorizer = TfidfVectorizer()\n",
    "X = vectorizer.fit_transform(zara_df['labels_caption'])\n",
    "y = zara_df['engagement_level']"
   ]
  },
  {
   "cell_type": "code",
   "execution_count": null,
   "metadata": {
    "colab": {
     "base_uri": "https://localhost:8080/",
     "height": 590
    },
    "id": "4MQYB8aOs7go",
    "outputId": "86986d84-e978-44dc-fc1c-e40299789fc2"
   },
   "outputs": [
    {
     "name": "stdout",
     "output_type": "stream",
     "text": [
      "Models built on image labels and captions:\n"
     ]
    },
    {
     "data": {
      "image/png": "[encoded data removed]",
      "text/plain": [
       "<Figure size 432x288 with 2 Axes>"
      ]
     },
     "metadata": {
      "needs_background": "light",
      "tags": []
     },
     "output_type": "display_data"
    },
    {
     "data": {
      "image/png": "[encoded data removed]",
      "text/plain": [
       "<Figure size 432x288 with 2 Axes>"
      ]
     },
     "metadata": {
      "needs_background": "light",
      "tags": []
     },
     "output_type": "display_data"
    }
   ],
   "source": [
    "print('Models built on image labels and captions:')\n",
    "X_train, X_test, y_train, y_test = train_test_split(X, y, test_size=0.20, random_state=42)\n",
    "reg = LogisticRegression()\n",
    "reg.fit(X,y)\n",
    "cm = confusion_matrix(y_test, reg.predict(X_test))\n",
    "plt.figure()\n",
    "sns.heatmap(cm, annot=True)\n",
    "plt.ylabel('Actual')\n",
    "plt.xlabel('Predicted')\n",
    "plt.title('accuracy (on all data) of model fit on all data:' + str(reg.score(X,y)))\n",
    "plt.show()\n",
    "reg = LogisticRegression()\n",
    "reg.fit(X_train,y_train)\n",
    "cm = confusion_matrix(y_test, reg.predict(X_test))\n",
    "plt.figure()\n",
    "sns.heatmap(cm, annot=True)\n",
    "plt.ylabel('Actual')\n",
    "plt.xlabel('Predicted')\n",
    "plt.title('accuracy (on test data) of model fit on train data:' + str(reg.score(X_test,y_test)))\n",
    "plt.show()"
   ]
  },
  {
   "cell_type": "markdown",
   "metadata": {
    "id": "lkEBtMqitMqM"
   },
   "source": [
    "##### Takeaway\n",
    "\n",
    "Captions seem to be a much better predictor of engagement than labels. This implies that the caption of an instagram post is more important than what is actually depicted in the picture, a very interesting finding."
   ]
  },
  {
   "cell_type": "markdown",
   "metadata": {
    "id": "B8UbeBOItkyi"
   },
   "source": [
    "### Section 3\n",
    "\n",
    "In this section, we perform topic modeling on the image labels using LDA. We then try to find the topics with the highest engagement by looking at the topics among the posts in the top quartile for engagement and the bottom quartile for engagement."
   ]
  },
  {
   "cell_type": "code",
   "execution_count": null,
   "metadata": {
    "colab": {
     "base_uri": "https://localhost:8080/",
     "height": 187
    },
    "id": "cN4vm9o5tzTJ",
    "outputId": "955dd4a2-1520-4019-c26b-f809ff546b8e"
   },
   "outputs": [
    {
     "name": "stdout",
     "output_type": "stream",
     "text": [
      "Topics found via LDA:\n",
      "\n",
      "Topic #0:\n",
      "hair beauty photo shoot hairstyle model skin sitting photography long\n",
      "\n",
      "Topic #1:\n",
      "photography black white and monochrome photograph sitting pattern cool design\n",
      "\n",
      "Topic #2:\n",
      "fashion clothing outerwear shoulder dress leg model sleeve standing footwear\n"
     ]
    }
   ],
   "source": [
    "from sklearn.decomposition import LatentDirichletAllocation as LDA\n",
    "from sklearn.feature_extraction.text import CountVectorizer\n",
    "\n",
    "count_vectorizer = CountVectorizer()\n",
    "count_data = count_vectorizer.fit_transform(zara_df['labels_clean'])\n",
    "\n",
    "def print_topics(model, count_vectorizer, n_top_words):\n",
    "    words = count_vectorizer.get_feature_names()\n",
    "    for topic_idx, topic in enumerate(model.components_):\n",
    "        print(\"\\nTopic #%d:\" % topic_idx)\n",
    "        print(\" \".join([words[i]\n",
    "                        for i in topic.argsort()[:-n_top_words - 1:-1]]))\n",
    "        \n",
    "number_topics = 3\n",
    "number_words = 10\n",
    "lda = LDA(n_components=number_topics, n_jobs=-1, random_state=4)\n",
    "lda.fit(count_data)\n",
    "# Print the topics\n",
    "print(\"Topics found via LDA:\")\n",
    "print_topics(lda, count_vectorizer, number_words)"
   ]
  },
  {
   "cell_type": "markdown",
   "metadata": {
    "id": "qHTlG4EGux9A"
   },
   "source": [
    "3 topics seems to be a good number as they are differentiable but not too noisy. Topic names could be as follows:\n",
    "\n",
    "Topic 0: Beauty\n",
    "\n",
    "Topic 1: Photography\n",
    "\n",
    "Topic 2: Fashion/Clothing"
   ]
  },
  {
   "cell_type": "code",
   "execution_count": null,
   "metadata": {
    "id": "d6MxHOgwvYF-"
   },
   "outputs": [],
   "source": [
    "loading_df = pd.DataFrame(lda.components_.T, index=count_vectorizer.get_feature_names())\n",
    "loading_df.columns = ['beauty', 'photography', 'fashion/clothing']"
   ]
  },
  {
   "cell_type": "code",
   "execution_count": null,
   "metadata": {
    "colab": {
     "base_uri": "https://localhost:8080/",
     "height": 204
    },
    "id": "2BIB8WikwQ02",
    "outputId": "5f976a1f-910f-46b3-a224-ef9bbf9e2614"
   },
   "outputs": [
    {
     "data": {
      "text/html": [
       "<div>\n",
       "<style scoped>\n",
       "    .dataframe tbody tr th:only-of-type {\n",
       "        vertical-align: middle;\n",
       "    }\n",
       "\n",
       "    .dataframe tbody tr th {\n",
       "        vertical-align: top;\n",
       "    }\n",
       "\n",
       "    .dataframe thead th {\n",
       "        text-align: right;\n",
       "    }\n",
       "</style>\n",
       "<table border=\"1\" class=\"dataframe\">\n",
       "  <thead>\n",
       "    <tr style=\"text-align: right;\">\n",
       "      <th></th>\n",
       "      <th>beauty</th>\n",
       "      <th>photography</th>\n",
       "      <th>fashion/clothing</th>\n",
       "    </tr>\n",
       "  </thead>\n",
       "  <tbody>\n",
       "    <tr>\n",
       "      <th>hair</th>\n",
       "      <td>132.312573</td>\n",
       "      <td>0.342586</td>\n",
       "      <td>0.344840</td>\n",
       "    </tr>\n",
       "    <tr>\n",
       "      <th>beauty</th>\n",
       "      <td>89.288428</td>\n",
       "      <td>1.985076</td>\n",
       "      <td>29.726496</td>\n",
       "    </tr>\n",
       "    <tr>\n",
       "      <th>photo</th>\n",
       "      <td>66.785567</td>\n",
       "      <td>0.780806</td>\n",
       "      <td>15.433627</td>\n",
       "    </tr>\n",
       "    <tr>\n",
       "      <th>shoot</th>\n",
       "      <td>64.688283</td>\n",
       "      <td>0.492901</td>\n",
       "      <td>15.818816</td>\n",
       "    </tr>\n",
       "    <tr>\n",
       "      <th>hairstyle</th>\n",
       "      <td>53.297227</td>\n",
       "      <td>0.346268</td>\n",
       "      <td>0.356505</td>\n",
       "    </tr>\n",
       "  </tbody>\n",
       "</table>\n",
       "</div>"
      ],
      "text/plain": [
       "               beauty  photography  fashion/clothing\n",
       "hair       132.312573     0.342586          0.344840\n",
       "beauty      89.288428     1.985076         29.726496\n",
       "photo       66.785567     0.780806         15.433627\n",
       "shoot       64.688283     0.492901         15.818816\n",
       "hairstyle   53.297227     0.346268          0.356505"
      ]
     },
     "execution_count": 39,
     "metadata": {
      "tags": []
     },
     "output_type": "execute_result"
    }
   ],
   "source": [
    "loading_df.sort_values(by='beauty', ascending=False).head()"
   ]
  },
  {
   "cell_type": "code",
   "execution_count": null,
   "metadata": {
    "colab": {
     "base_uri": "https://localhost:8080/",
     "height": 204
    },
    "id": "Hh2yUX0Iw4Zj",
    "outputId": "48019042-da4a-4d21-ceb7-3b5e33d83923"
   },
   "outputs": [
    {
     "data": {
      "text/html": [
       "<div>\n",
       "<style scoped>\n",
       "    .dataframe tbody tr th:only-of-type {\n",
       "        vertical-align: middle;\n",
       "    }\n",
       "\n",
       "    .dataframe tbody tr th {\n",
       "        vertical-align: top;\n",
       "    }\n",
       "\n",
       "    .dataframe thead th {\n",
       "        text-align: right;\n",
       "    }\n",
       "</style>\n",
       "<table border=\"1\" class=\"dataframe\">\n",
       "  <thead>\n",
       "    <tr style=\"text-align: right;\">\n",
       "      <th></th>\n",
       "      <th>beauty</th>\n",
       "      <th>photography</th>\n",
       "      <th>fashion/clothing</th>\n",
       "    </tr>\n",
       "  </thead>\n",
       "  <tbody>\n",
       "    <tr>\n",
       "      <th>photography</th>\n",
       "      <td>39.580544</td>\n",
       "      <td>136.969926</td>\n",
       "      <td>14.449530</td>\n",
       "    </tr>\n",
       "    <tr>\n",
       "      <th>black</th>\n",
       "      <td>8.541599</td>\n",
       "      <td>101.269071</td>\n",
       "      <td>27.189330</td>\n",
       "    </tr>\n",
       "    <tr>\n",
       "      <th>white</th>\n",
       "      <td>8.739731</td>\n",
       "      <td>100.791256</td>\n",
       "      <td>52.469013</td>\n",
       "    </tr>\n",
       "    <tr>\n",
       "      <th>and</th>\n",
       "      <td>0.347139</td>\n",
       "      <td>71.432473</td>\n",
       "      <td>1.220388</td>\n",
       "    </tr>\n",
       "    <tr>\n",
       "      <th>monochrome</th>\n",
       "      <td>0.343494</td>\n",
       "      <td>51.320894</td>\n",
       "      <td>0.335613</td>\n",
       "    </tr>\n",
       "  </tbody>\n",
       "</table>\n",
       "</div>"
      ],
      "text/plain": [
       "                beauty  photography  fashion/clothing\n",
       "photography  39.580544   136.969926         14.449530\n",
       "black         8.541599   101.269071         27.189330\n",
       "white         8.739731   100.791256         52.469013\n",
       "and           0.347139    71.432473          1.220388\n",
       "monochrome    0.343494    51.320894          0.335613"
      ]
     },
     "execution_count": 40,
     "metadata": {
      "tags": []
     },
     "output_type": "execute_result"
    }
   ],
   "source": [
    "loading_df.sort_values(by='photography', ascending=False).head()"
   ]
  },
  {
   "cell_type": "code",
   "execution_count": null,
   "metadata": {
    "colab": {
     "base_uri": "https://localhost:8080/",
     "height": 204
    },
    "id": "45d0fRmiw6iy",
    "outputId": "e90ccc41-82bd-42ce-9160-39c0c40d0c85"
   },
   "outputs": [
    {
     "data": {
      "text/html": [
       "<div>\n",
       "<style scoped>\n",
       "    .dataframe tbody tr th:only-of-type {\n",
       "        vertical-align: middle;\n",
       "    }\n",
       "\n",
       "    .dataframe tbody tr th {\n",
       "        vertical-align: top;\n",
       "    }\n",
       "\n",
       "    .dataframe thead th {\n",
       "        text-align: right;\n",
       "    }\n",
       "</style>\n",
       "<table border=\"1\" class=\"dataframe\">\n",
       "  <thead>\n",
       "    <tr style=\"text-align: right;\">\n",
       "      <th></th>\n",
       "      <th>beauty</th>\n",
       "      <th>photography</th>\n",
       "      <th>fashion/clothing</th>\n",
       "    </tr>\n",
       "  </thead>\n",
       "  <tbody>\n",
       "    <tr>\n",
       "      <th>fashion</th>\n",
       "      <td>31.832422</td>\n",
       "      <td>5.811538</td>\n",
       "      <td>314.356041</td>\n",
       "    </tr>\n",
       "    <tr>\n",
       "      <th>clothing</th>\n",
       "      <td>0.567681</td>\n",
       "      <td>0.344820</td>\n",
       "      <td>194.087499</td>\n",
       "    </tr>\n",
       "    <tr>\n",
       "      <th>outerwear</th>\n",
       "      <td>0.421125</td>\n",
       "      <td>0.987043</td>\n",
       "      <td>170.591833</td>\n",
       "    </tr>\n",
       "    <tr>\n",
       "      <th>shoulder</th>\n",
       "      <td>37.561988</td>\n",
       "      <td>0.744380</td>\n",
       "      <td>96.693632</td>\n",
       "    </tr>\n",
       "    <tr>\n",
       "      <th>dress</th>\n",
       "      <td>5.510581</td>\n",
       "      <td>0.445786</td>\n",
       "      <td>85.043633</td>\n",
       "    </tr>\n",
       "  </tbody>\n",
       "</table>\n",
       "</div>"
      ],
      "text/plain": [
       "              beauty  photography  fashion/clothing\n",
       "fashion    31.832422     5.811538        314.356041\n",
       "clothing    0.567681     0.344820        194.087499\n",
       "outerwear   0.421125     0.987043        170.591833\n",
       "shoulder   37.561988     0.744380         96.693632\n",
       "dress       5.510581     0.445786         85.043633"
      ]
     },
     "execution_count": 41,
     "metadata": {
      "tags": []
     },
     "output_type": "execute_result"
    }
   ],
   "source": [
    "loading_df.sort_values(by='fashion/clothing', ascending=False).head()"
   ]
  },
  {
   "cell_type": "markdown",
   "metadata": {
    "id": "GCxkqGJKxAmA"
   },
   "source": [
    "(i) loading_df is a dataframe showing which words load on which topics\n",
    "\n",
    "The topics have substantially different loadings for each word, showing that 3 topics is an appropriate amount without a large amount of overlap."
   ]
  },
  {
   "cell_type": "code",
   "execution_count": null,
   "metadata": {
    "colab": {
     "base_uri": "https://localhost:8080/",
     "height": 564
    },
    "id": "kAC9dDxZxGfT",
    "outputId": "9c68505a-cee7-4658-df24-cc64de04c374"
   },
   "outputs": [
    {
     "data": {
      "text/html": [
       "<div>\n",
       "<style scoped>\n",
       "    .dataframe tbody tr th:only-of-type {\n",
       "        vertical-align: middle;\n",
       "    }\n",
       "\n",
       "    .dataframe tbody tr th {\n",
       "        vertical-align: top;\n",
       "    }\n",
       "\n",
       "    .dataframe thead th {\n",
       "        text-align: right;\n",
       "    }\n",
       "</style>\n",
       "<table border=\"1\" class=\"dataframe\">\n",
       "  <thead>\n",
       "    <tr style=\"text-align: right;\">\n",
       "      <th></th>\n",
       "      <th>url</th>\n",
       "      <th>caption</th>\n",
       "      <th>likes</th>\n",
       "      <th>num_comments</th>\n",
       "      <th>labels</th>\n",
       "      <th>likes_weighted</th>\n",
       "      <th>num_comments_weighted</th>\n",
       "      <th>engagement_score</th>\n",
       "      <th>engagement_level</th>\n",
       "      <th>labels_clean</th>\n",
       "      <th>caption_clean</th>\n",
       "      <th>labels_caption</th>\n",
       "      <th>beauty</th>\n",
       "      <th>photography</th>\n",
       "      <th>fashion/clothing</th>\n",
       "    </tr>\n",
       "  </thead>\n",
       "  <tbody>\n",
       "    <tr>\n",
       "      <th>0</th>\n",
       "      <td>https://scontent-iad3-1.cdninstagram.com/v/t51...</td>\n",
       "      <td>FW20 Campaign. Kids Collection\\nCreative Direc...</td>\n",
       "      <td>73078</td>\n",
       "      <td>400</td>\n",
       "      <td>['Clothing', 'Fashion', 'Outerwear', 'Fur', 'S...</td>\n",
       "      <td>0.249331</td>\n",
       "      <td>0.123229</td>\n",
       "      <td>0.173670</td>\n",
       "      <td>1</td>\n",
       "      <td>Clothing Fashion Outerwear Fur Street fashion ...</td>\n",
       "      <td>FW20 Campaign. Kids Collection Creative Direct...</td>\n",
       "      <td>Clothing Fashion Outerwear Fur Street fashion ...</td>\n",
       "      <td>0.027067</td>\n",
       "      <td>0.058122</td>\n",
       "      <td>0.914811</td>\n",
       "    </tr>\n",
       "    <tr>\n",
       "      <th>1</th>\n",
       "      <td>https://scontent-iad3-1.cdninstagram.com/v/t51...</td>\n",
       "      <td>FW20 Campaign. Kids Collection\\nCreative Direc...</td>\n",
       "      <td>38498</td>\n",
       "      <td>124</td>\n",
       "      <td>['Sky', 'Darkness', 'Room', 'Adventure game', ...</td>\n",
       "      <td>0.131349</td>\n",
       "      <td>0.038201</td>\n",
       "      <td>0.075460</td>\n",
       "      <td>0</td>\n",
       "      <td>Sky Darkness Room Adventure game Music venue N...</td>\n",
       "      <td>FW20 Campaign. Kids Collection Creative Direct...</td>\n",
       "      <td>Sky Darkness Room Adventure game Music venue N...</td>\n",
       "      <td>0.344325</td>\n",
       "      <td>0.631707</td>\n",
       "      <td>0.023968</td>\n",
       "    </tr>\n",
       "    <tr>\n",
       "      <th>2</th>\n",
       "      <td>https://scontent-iad3-1.cdninstagram.com/v/t51...</td>\n",
       "      <td>FW20 Campaign. Kids Collection\\nCreative Direc...</td>\n",
       "      <td>56094</td>\n",
       "      <td>192</td>\n",
       "      <td>['Cool', 'Fashion', 'Jeans', 'Sitting', 'Denim...</td>\n",
       "      <td>0.191384</td>\n",
       "      <td>0.059150</td>\n",
       "      <td>0.112044</td>\n",
       "      <td>0</td>\n",
       "      <td>Cool Fashion Jeans Sitting Denim Shoe Style</td>\n",
       "      <td>FW20 Campaign. Kids Collection Creative Direct...</td>\n",
       "      <td>Cool Fashion Jeans Sitting Denim Shoe Style FW...</td>\n",
       "      <td>0.044959</td>\n",
       "      <td>0.418802</td>\n",
       "      <td>0.536239</td>\n",
       "    </tr>\n",
       "    <tr>\n",
       "      <th>3</th>\n",
       "      <td>https://scontent-iad3-1.cdninstagram.com/v/t51...</td>\n",
       "      <td>FW20 Campaign. Man Collection\\nCreative Direct...</td>\n",
       "      <td>34728</td>\n",
       "      <td>103</td>\n",
       "      <td>['Hair', 'Face', 'Hairstyle', 'Eyebrow', 'Fore...</td>\n",
       "      <td>0.118487</td>\n",
       "      <td>0.031731</td>\n",
       "      <td>0.066434</td>\n",
       "      <td>0</td>\n",
       "      <td>Hair Face Hairstyle Eyebrow Forehead Chin Head...</td>\n",
       "      <td>FW20 Campaign. Man Collection Creative Directi...</td>\n",
       "      <td>Hair Face Hairstyle Eyebrow Forehead Chin Head...</td>\n",
       "      <td>0.938907</td>\n",
       "      <td>0.030519</td>\n",
       "      <td>0.030574</td>\n",
       "    </tr>\n",
       "    <tr>\n",
       "      <th>4</th>\n",
       "      <td>https://scontent-iad3-1.cdninstagram.com/v/t51...</td>\n",
       "      <td>FW20 Campaign. Man Collection\\nCreative Direct...</td>\n",
       "      <td>34286</td>\n",
       "      <td>187</td>\n",
       "      <td>['Snapshot', 'Standing', 'Hand', 'Arm', 'Human...</td>\n",
       "      <td>0.116979</td>\n",
       "      <td>0.057609</td>\n",
       "      <td>0.081357</td>\n",
       "      <td>0</td>\n",
       "      <td>Snapshot Standing Hand Arm Human Photography S...</td>\n",
       "      <td>FW20 Campaign. Man Collection Creative Directi...</td>\n",
       "      <td>Snapshot Standing Hand Arm Human Photography S...</td>\n",
       "      <td>0.423618</td>\n",
       "      <td>0.546903</td>\n",
       "      <td>0.029479</td>\n",
       "    </tr>\n",
       "  </tbody>\n",
       "</table>\n",
       "</div>"
      ],
      "text/plain": [
       "                                                 url  ... fashion/clothing\n",
       "0  https://scontent-iad3-1.cdninstagram.com/v/t51...  ...         0.914811\n",
       "1  https://scontent-iad3-1.cdninstagram.com/v/t51...  ...         0.023968\n",
       "2  https://scontent-iad3-1.cdninstagram.com/v/t51...  ...         0.536239\n",
       "3  https://scontent-iad3-1.cdninstagram.com/v/t51...  ...         0.030574\n",
       "4  https://scontent-iad3-1.cdninstagram.com/v/t51...  ...         0.029479\n",
       "\n",
       "[5 rows x 15 columns]"
      ]
     },
     "execution_count": 42,
     "metadata": {
      "tags": []
     },
     "output_type": "execute_result"
    }
   ],
   "source": [
    "zara_df_topics = zara_df.merge(pd.DataFrame(lda.transform(count_data), \n",
    "                           columns=['beauty','photography','fashion/clothing']),\n",
    "              left_index=True, right_index=True)\n",
    "zara_df_topics.head()"
   ]
  },
  {
   "cell_type": "markdown",
   "metadata": {
    "id": "YgSsv0VPy6Hd"
   },
   "source": [
    "(ii) The zara_df_topics dataframe shows topic weights for each image - shown in the last 3 columns of the dataframe."
   ]
  },
  {
   "cell_type": "code",
   "execution_count": null,
   "metadata": {
    "colab": {
     "base_uri": "https://localhost:8080/",
     "height": 34
    },
    "id": "3wHm3jS2y9wc",
    "outputId": "c38dbb73-0157-45f5-d3f3-962635c37778"
   },
   "outputs": [
    {
     "name": "stdout",
     "output_type": "stream",
     "text": [
      "0.20215605548505378 0.1039188588326993\n"
     ]
    }
   ],
   "source": [
    "import numpy as np\n",
    "top_quartile = np.percentile(zara_df_topics['engagement_score'], 75)\n",
    "bottom_quartile = np.percentile(zara_df_topics['engagement_score'], 25)\n",
    "print(top_quartile, bottom_quartile)"
   ]
  },
  {
   "cell_type": "code",
   "execution_count": null,
   "metadata": {
    "colab": {
     "base_uri": "https://localhost:8080/",
     "height": 204
    },
    "id": "SRzdZqZ10KEQ",
    "outputId": "aa63e8b8-b444-4c3c-8dfa-0e9e7587c9f7"
   },
   "outputs": [
    {
     "name": "stdout",
     "output_type": "stream",
     "text": [
      "top quartile topic means:\n",
      "beauty              0.306642\n",
      "photography         0.156145\n",
      "fashion/clothing    0.537213\n",
      "dtype: float64\n",
      "\n",
      "bottom quartile topic means:\n",
      "beauty              0.272016\n",
      "photography         0.365265\n",
      "fashion/clothing    0.362719\n",
      "dtype: float64\n"
     ]
    }
   ],
   "source": [
    "print('top quartile topic means:')\n",
    "print(zara_df_topics[zara_df_topics['engagement_score'] > top_quartile][['beauty', 'photography', 'fashion/clothing']].mean())\n",
    "print('\\nbottom quartile topic means:')\n",
    "print(zara_df_topics[zara_df_topics['engagement_score'] < bottom_quartile][['beauty', 'photography', 'fashion/clothing']].mean())"
   ]
  },
  {
   "cell_type": "markdown",
   "metadata": {
    "id": "m6ftMl8z3IUm"
   },
   "source": [
    "### Section 4\n",
    "\n",
    "What advice could we give Zara if it wants to increase engagement on its Instagram page based on your findings in Sections 2 and 3?\n",
    "\n",
    "Based on the findings from Section 2, it seems that Zara should focus much more effort on its captions. The findings from task B suggest that what is depicted in the image itself is actually less important than what is in the caption. While it is still important to post relevant and high-quality content, Zara's social media team should put a little more effort into determining the best possible captions.\n",
    "\n",
    "Based on the findings from Section 3, it seems that the posts that have the most engagement can be classified as belonging more to a \"fashion\" topic than posts with low engagement. This implies that people engage more with pictures that showcase the fashion of Zara. On the other hand, low engagment pictures belong to the \"photography\" topic more than high engagement posts. This could imply that users are less concerned with how artistic or good the picture actually is than other aspects. Posts that seem to focus on the photography rather than the fashion seem to have lower engagement.\n",
    "\n",
    "Overall, our suggestion to Zara would be to focus more on the caption of the post, and also post more pictures showcasing their fashion while not worrying about how good/artistic the photos actually are."
   ]
  }
 ],
 "metadata": {
  "colab": {
   "name": "zara_instagram_engagement.ipynb",
   "provenance": []
  },
  "kernelspec": {
   "display_name": "Python 3",
   "language": "python",
   "name": "python3"
  },
  "language_info": {
   "codemirror_mode": {
    "name": "ipython",
    "version": 3
   },
   "file_extension": ".py",
   "mimetype": "text/x-python",
   "name": "python",
   "nbconvert_exporter": "python",
   "pygments_lexer": "ipython3",
   "version": "3.7.6"
  }
 },
 "nbformat": 4,
 "nbformat_minor": 1
}
